{
 "cells": [
  {
   "cell_type": "markdown",
   "metadata": {},
   "source": [
    "Before launching jupyter and this notebook, type in terminal: \n",
    "\n",
    "``source activate nbodykit-env``"
   ]
  },
  {
   "cell_type": "code",
   "execution_count": null,
   "metadata": {},
   "outputs": [],
   "source": [
    "%matplotlib inline\n",
    "%config InlineBackend.figure_format = 'retina'"
   ]
  },
  {
   "cell_type": "code",
   "execution_count": null,
   "metadata": {},
   "outputs": [],
   "source": [
    "from nbodykit.lab import *\n",
    "from nbodykit import setup_logging, style\n",
    "from nbodykit.algorithms.fftpower import project_to_basis\n",
    "\n",
    "import os\n",
    "import numpy as np\n",
    "import matplotlib.pyplot as plt\n",
    "from scipy.interpolate import interp1d\n",
    "plt.style.use(style.notebook)"
   ]
  },
  {
   "cell_type": "code",
   "execution_count": 3,
   "metadata": {},
   "outputs": [],
   "source": [
    "setup_logging() # turn on logging to screen"
   ]
  },
  {
   "cell_type": "markdown",
   "metadata": {},
   "source": [
    "# FKP shot noise"
   ]
  },
  {
   "cell_type": "markdown",
   "metadata": {},
   "source": [
    "Let us compute the shot noise of the FKP estimator. "
   ]
  },
  {
   "cell_type": "markdown",
   "metadata": {},
   "source": [
    "### Getting BOSS catalogs"
   ]
  },
  {
   "cell_type": "code",
   "execution_count": 5,
   "metadata": {},
   "outputs": [],
   "source": [
    "def print_download_progress(count, block_size, total_size):\n",
    "    import sys\n",
    "    pct_complete = float(count * block_size) / total_size\n",
    "    msg = \"\\r- Download progress: {0:.1%}\".format(pct_complete)\n",
    "    sys.stdout.write(msg)\n",
    "    sys.stdout.flush()\n",
    "\n",
    "def download_data(download_dir):\n",
    "    \"\"\"\n",
    "    Download the FITS data needed for this notebook to the specified directory.\n",
    "    \n",
    "    Parameters\n",
    "    ----------\n",
    "    download_dir : str\n",
    "        the data will be downloaded to this directory\n",
    "    \"\"\"\n",
    "    from six.moves import urllib\n",
    "    import shutil\n",
    "    import gzip\n",
    "    \n",
    "    urls = ['https://data.sdss.org/sas/dr12/boss/lss/random0_DR12v5_CMASSLOWZTOT_North.fits.gz',\n",
    "            'https://data.sdss.org/sas/dr12/boss/lss/random0_DR12v5_CMASSLOWZTOT_South.fits.gz',\n",
    "            'https://data.sdss.org/sas/dr12/boss/lss/random1_DR12v5_CMASSLOWZTOT_North.fits.gz',\n",
    "            'https://data.sdss.org/sas/dr12/boss/lss/random1_DR12v5_CMASSLOWZTOT_South.fits.gz',]\n",
    "    filenames = ['random0_DR12v5_CMASSLOWZTOT_North.fits', \n",
    "                 'random0_DR12v5_CMASSLOWZTOT_South.fits',\n",
    "                 'random1_DR12v5_CMASSLOWZTOT_North.fits', \n",
    "                 'random1_DR12v5_CMASSLOWZTOT_South.fits',]\n",
    "    \n",
    "    # download both files\n",
    "    for i, url in enumerate(urls):\n",
    "        \n",
    "        # the download path\n",
    "        filename = url.split('/')[-1]\n",
    "        file_path = os.path.join(download_dir, filename)\n",
    "        final_path = os.path.join(download_dir, filenames[i])\n",
    "        \n",
    "        # do not re-download\n",
    "        if not os.path.exists(final_path):\n",
    "            print(\"Downloading %s\" % url)\n",
    "            \n",
    "            # Check if the download directory exists, otherwise create it.\n",
    "            if not os.path.exists(download_dir):\n",
    "                os.makedirs(download_dir)\n",
    "\n",
    "            # Download the file from the internet.\n",
    "            file_path, _ = urllib.request.urlretrieve(url=url,\n",
    "                                                      filename=file_path,\n",
    "                                                      reporthook=print_download_progress)\n",
    "\n",
    "            print()\n",
    "            print(\"Download finished. Extracting files.\")\n",
    "\n",
    "            # unzip the file\n",
    "            with gzip.open(file_path, 'rb') as f_in, open(final_path, 'wb') as f_out:\n",
    "                shutil.copyfileobj(f_in, f_out)\n",
    "            os.remove(file_path)\n",
    "            print(\"Done.\")\n",
    "        else:\n",
    "            print(\"Data has already been downloaded.\")"
   ]
  },
  {
   "cell_type": "code",
   "execution_count": 7,
   "metadata": {},
   "outputs": [
    {
     "name": "stdout",
     "output_type": "stream",
     "text": [
      "Data has already been downloaded.\n",
      "Data has already been downloaded.\n",
      "Data has already been downloaded.\n",
      "Data has already been downloaded.\n"
     ]
    }
   ],
   "source": [
    "# download the data to the current directory\n",
    "download_dir = os.path.join(os.path.expanduser(\"~\"), \"Documents\", \"EFTofLSS\", \"BOSS_measurements\", \"catalogs\")\n",
    "download_data(download_dir)"
   ]
  },
  {
   "cell_type": "markdown",
   "metadata": {},
   "source": [
    "Here we use two randoms catalogs."
   ]
  },
  {
   "cell_type": "markdown",
   "metadata": {},
   "source": [
    "### Selecting the skycut"
   ]
  },
  {
   "cell_type": "code",
   "execution_count": 8,
   "metadata": {},
   "outputs": [],
   "source": [
    "red, sky = 'lowz', 'South'\n",
    "if red == 'lowz': zmin, zmax = 0.20, 0.43\n",
    "elif red == 'cmass': zmin, zmax = 0.43, 0.7"
   ]
  },
  {
   "cell_type": "code",
   "execution_count": 9,
   "metadata": {},
   "outputs": [
    {
     "name": "stderr",
     "output_type": "stream",
     "text": [
      "[ 000171.96 ]   0: 04-20 18:02  CatalogSource   INFO     Extra arguments to FileType: () {}\n",
      "[ 000171.97 ]   0: 04-20 18:02  CatalogSource   INFO     Extra arguments to FileType: () {}\n"
     ]
    }
   ],
   "source": [
    "# NOTE: change this path if you downloaded the data somewhere else!\n",
    "r0_path = os.path.join(download_dir, 'random0_DR12v5_CMASSLOWZTOT_%s.fits') % sky\n",
    "r1_path = os.path.join(download_dir, 'random1_DR12v5_CMASSLOWZTOT_%s.fits') % sky\n",
    "\n",
    "# initialize the FITS catalog objects for data and randoms\n",
    "r0 = FITSCatalog(r0_path)\n",
    "r1 = FITSCatalog(r1_path)"
   ]
  },
  {
   "cell_type": "code",
   "execution_count": 10,
   "metadata": {},
   "outputs": [],
   "source": [
    "# slice the randoms\n",
    "valid = (r0['Z'] > zmin)&(r0['Z'] < zmax)\n",
    "r0 = r0[valid]\n",
    "\n",
    "valid = (r1['Z'] > zmin)&(r1['Z'] < zmax)\n",
    "r1 = r1[valid]"
   ]
  },
  {
   "cell_type": "code",
   "execution_count": 11,
   "metadata": {},
   "outputs": [],
   "source": [
    "# the fiducial BOSS DR12 cosmology\n",
    "cosmo = cosmology.Cosmology(h=0.676).match(Omega0_m=0.31)\n",
    "\n",
    "# add Cartesian position column\n",
    "r0['Position'] = transform.SkyToCartesian(r0['RA'], r0['DEC'], r0['Z'], cosmo=cosmo)\n",
    "r1['Position'] = transform.SkyToCartesian(r1['RA'], r1['DEC'], r1['Z'], cosmo=cosmo)"
   ]
  },
  {
   "cell_type": "code",
   "execution_count": 12,
   "metadata": {},
   "outputs": [],
   "source": [
    "r0['WEIGHT'] = 1.0\n",
    "r1['WEIGHT'] = 1.0"
   ]
  },
  {
   "cell_type": "markdown",
   "metadata": {},
   "source": [
    "### Estimating the FKP shot noise with sums"
   ]
  },
  {
   "cell_type": "markdown",
   "metadata": {},
   "source": [
    "For a Poisson realization with mean density $\\bar n^{\\rm true}$ (per redshift bin), the expectation value of the number of galaxies in a volume $V=\\int d^3 r$ weighted by $w_{\\rm FKP}(r)^2$ is: \n",
    "\\begin{equation}\n",
    "N_{\\rm stoch.} = \\int d^3 r \\ \\bar n^{\\rm true}(r) \\ w_{{\\rm FKP}}(r)^2 \\ .\n",
    "\\end{equation}\n",
    "\n",
    "In the same time, the FKP normalization of the power spectrum is given by: \n",
    "\\begin{equation}\n",
    "A = \\int d^3 r \\ \\bar n^{\\rm true}(r)^2 \\, w_{{\\rm FKP}}(r)^2 \\ .\n",
    "\\end{equation}\n",
    "\n",
    "The power spectrum shot-noise is then: \n",
    "\\begin{equation}\n",
    "P_{\\rm stoch.} = \\frac{N_{\\rm stoch.}}{A} \\ . \n",
    "\\end{equation}\n",
    "\n",
    "In practice, because of (non-Poissonian) observational systematics, the measured density $\\bar n^{\\rm meas.}$ \n",
    "is corrected by weights $w_{\\rm sys}$ such that $\\bar n^{\\rm true} = \\bar n^{\\rm meas.} \\ w_{\\rm sys}$. \n",
    "As such, \n",
    "\\begin{equation}\n",
    "N_{\\rm stoch.} = \\int d^3 r \\ \\bar n^{\\rm meas.}(r) \\, w_{\\rm sys}(r) \\, w_{{\\rm FKP}}(r)^2 = \\sum_i^{N_g^{\\rm meas.}} w_{{\\rm sys},i} \\ w_{{\\rm FKP}, i}^2 \\ ,\n",
    "\\end{equation}\n",
    "and\n",
    "\\begin{equation}\n",
    "A = \\int d^3 r \\ \\bar n^{\\rm meas.}(r)^2 \\, w_{\\rm sys}(r)^2 \\, w_{{\\rm FKP}}(r)^2 = \\sum_i^{N_g^{\\rm meas.}} \\bar n^{\\rm meas.}(z_i) \\ w_{{\\rm sys},i}^2 \\ w_{{\\rm FKP}, i}^2 \\ .\n",
    "\\end{equation}\n",
    "\n",
    "BOSS data catalogs actually provide as a column entry for each object: $\\bar n_{\\rm BOSS} = \\beta_{\\rm mess}^{-1} \\times \\bar n^{\\rm meas.} \\times w_{\\rm sys}$, where $w_{\\rm sys} = w_{\\rm comp} \\ w_{\\rm col}$, and $\\beta_{\\rm mess} = V_{\\rm eff} / V_{\\rm tot} \\sim 0.9$ is a mess made by BOSS. \n",
    "\n",
    "In general, we can define: \n",
    "\\begin{equation}\n",
    "I_{ab} = \\int d^3 r \\ \\bar n^{\\rm true}(r)^a \\, w_{{\\rm FKP}}(r)^b = \\int d^3 r \\ (\\bar n^{\\rm meas.}(r) \\, w_{\\rm sys}(r))^a \\, w_{{\\rm FKP}}(r)^b = \\sum_i^{N_g^{\\rm meas.}} \\bar n^{\\rm meas.}(z_i)^{a-1} \\, w_{{\\rm sys},i}^a \\,  w_{{\\rm FKP}, i}^b = \\sum_i^{N_g^{\\rm meas.}} (\\beta_{\\rm mess} \\, \\bar n_{\\rm BOSS}(z_i))^{a-1} \\, w_{{\\rm sys},i} \\,  w_{{\\rm FKP}, i}^b \n",
    "\\end{equation}\n",
    "\n",
    "What we define as shot noise is then: \n",
    "\\begin{equation}\n",
    "P_{\\rm stoch.} = I_{12} / I_{22} \\ .\n",
    "\\end{equation}\n",
    "\n",
    "For the bispectrum, \n",
    "\\begin{equation}\n",
    "B_{\\rm stoch.} = I_{13} / I_{33} \\ .\n",
    "\\end{equation}"
   ]
  },
  {
   "cell_type": "markdown",
   "metadata": {},
   "source": [
    "Alternatively, we can estimate $I_{ab}$ from the BOSS synthetic catalog with $N_r^{\\rm meas.}$ objects with weight $w_{r, {\\rm sys}}$. \n",
    "Defining the ratio of the number of true data objects with of true synthetic objects: \n",
    "\\begin{equation}\n",
    "\\alpha_w = N_g / N_r \\equiv \\sum_i^{N_g^{\\rm meas.}} w_{{\\rm sys}, i} \\Big / \\sum_i^{N_r^{\\rm meas.}} w_{r, {\\rm sys}, i}  \\ , \n",
    "\\end{equation}\n",
    "we have:\n",
    "\\begin{align}\n",
    "I_{ab} & \\equiv \\sum_i^{N_g^{\\rm meas.}} \\bar n^{\\rm meas.}(z_i)^{a-1} \\, w_{{\\rm sys},i}^a \\,  w_{{\\rm FKP}, i}^b = \\sum_i^{N_g} \\bar n^{\\rm meas.}(z_i)^{a-1} \\, w_{{\\rm sys},i}^{a-1} \\,  w_{{\\rm FKP}, i}^b = \\sum_i^{N_g} \\bar n^{\\rm true}(z_i)^{a-1} \\,  w_{{\\rm FKP}, i}^b \n",
    "\\\\ \n",
    "& \\rightarrow \\alpha_w \\sum_i^{N_r} \\bar n^{\\rm true}(z_{r,i})^{a-1} \\,  w_{r,{\\rm FKP}, i}^b = \\alpha_w \\sum_i^{N_r} (\\alpha_w  \\, \\bar n_r^{\\rm meas.}(z_{r,i}) \\, w_{r,{\\rm sys},i})^{a-1} \\,  w_{r,{\\rm FKP}, i}^b  = \\alpha_w^a \\sum_i^{N_r^{\\rm meas.}} \\bar n_r^{\\rm meas.}(z_{r,i})^{a-1} \\, w_{r,{\\rm sys},i}^a \\,  w_{r,{\\rm FKP}, i}^b \\equiv I_{ab}^r\\ . \n",
    "\\end{align}\n",
    "\n",
    "\n",
    "BOSS synthetic catalogs actually provide as a column entry for each object: $\\bar n_{r, {\\rm BOSS}} = \\alpha_w \\times \\beta_{\\rm mess}^{-1} \\times \\bar n_r^{\\rm meas.} \\times w_{r,{\\rm sys}}$. Thus, \n",
    "\\begin{equation}\n",
    "I_{ab}^r = \\alpha_w \\sum_i^{N_r^{\\rm meas.}} (\\beta_{\\rm mess} \\, \\bar n_{r,{\\rm BOSS}}(z_{r,i}))^{a-1} \\, w_{r,{\\rm sys},i} \\,  w_{r,{\\rm FKP}, i}^b \n",
    "\\end{equation}"
   ]
  },
  {
   "cell_type": "markdown",
   "metadata": {},
   "source": [
    "Because of the definition of the FKP field, the actual shot noise is: \n",
    "\\begin{equation}\n",
    "P_{\\rm stoch.} = (I_{12} + \\alpha_w I_{12}^r) / I_{22} \\ .\n",
    "\\end{equation}\n",
    "\n",
    "For the bispectrum, \n",
    "\\begin{equation}\n",
    "B_{\\rm stoch.} = (I_{13} - \\alpha_w^2 I_{13}^r) / I_{33} \\ .\n",
    "\\end{equation}"
   ]
  },
  {
   "cell_type": "code",
   "execution_count": 55,
   "metadata": {},
   "outputs": [],
   "source": [
    "n_r, w_r, wfkp_r = r0['NZ'].compute(), r0['WEIGHT'].compute(), r0['WEIGHT_FKP'].compute() \n",
    "I12_r = np.sum(w_r * wfkp_r**2) "
   ]
  },
  {
   "cell_type": "markdown",
   "metadata": {},
   "source": [
    "### Estimating the shot noise with the FKP estimator using two randoms catalog"
   ]
  },
  {
   "cell_type": "markdown",
   "metadata": {},
   "source": [
    "We can check the sum estimates with the following power spectrum:  \n",
    "\\begin{equation}\n",
    "2 \\ I_{12} =  < (n_a - n_b)(n_a - n_b) > \\ ,\n",
    "\\end{equation}\n",
    "where $n_x$ are the density from the randoms catalog $x$. "
   ]
  },
  {
   "cell_type": "code",
   "execution_count": 45,
   "metadata": {},
   "outputs": [],
   "source": [
    "fkp = FKPCatalog(r0, r1) "
   ]
  },
  {
   "cell_type": "code",
   "execution_count": 46,
   "metadata": {},
   "outputs": [
    {
     "name": "stderr",
     "output_type": "stream",
     "text": [
      "[ 058509.83 ]   0: 04-21 10:14  FKPCatalog      INFO     cartesian coordinate range: [ 398.07507963 -788.04751916 -219.90394257] : [1154.47596219  816.25620143  680.47413185]\n",
      "[ 058509.84 ]   0: 04-21 10:14  FKPCatalog      INFO     BoxSize = [ 772. 1637.  919.]\n",
      "[ 058509.85 ]   0: 04-21 10:14  FKPCatalog      INFO     BoxCenter = [776.27552091  14.10434114 230.28509464]\n"
     ]
    }
   ],
   "source": [
    "Nmesh = 256\n",
    "mesh = fkp.to_mesh(Nmesh=Nmesh, \n",
    "                   fkp_weight='WEIGHT_FKP',  comp_weight='WEIGHT', nbar='NZ', resampler='tsc', interlaced=True)"
   ]
  },
  {
   "cell_type": "code",
   "execution_count": 47,
   "metadata": {},
   "outputs": [
    {
     "name": "stderr",
     "output_type": "stream",
     "text": [
      "[ 058509.89 ]   0: 04-21 10:14  ConvolvedFFTPower INFO     using compensation function CompensateTSC for source 'first'\n",
      "[ 058509.90 ]   0: 04-21 10:14  ConvolvedFFTPower INFO     using compensation function CompensateTSC for source 'second'\n",
      "[ 058536.99 ]   0: 04-21 10:15  CatalogMesh     INFO     Chunk 0 ~ 4194304 / 5422423 \n",
      "[ 058561.48 ]   0: 04-21 10:15  CatalogMesh     INFO     painted 4194304 out of 5422423 objects to mesh\n",
      "[ 058561.48 ]   0: 04-21 10:15  CatalogMesh     INFO     Chunk 4194304 ~ 8388608 / 5422423 \n",
      "[ 058568.27 ]   0: 04-21 10:15  CatalogMesh     INFO     painted 5422423 out of 5422423 objects to mesh\n",
      "[ 058571.41 ]   0: 04-21 10:16  CatalogMesh     INFO     painted 5422423 out of 5422423 objects to mesh\n",
      "[ 058571.41 ]   0: 04-21 10:16  CatalogMesh     INFO     mean particles per cell is 0.0742309\n",
      "/Users/pierre/.conda/envs/nbodykit-env/lib/python3.8/logging/__init__.py:373: ComplexWarning: Casting complex values to real discards the imaginary part\n",
      "  msg = msg % self.args\n",
      "[ 058571.41 ]   0: 04-21 10:16  CatalogMesh     INFO     sum is 1.24539e+06 \n",
      "[ 058571.49 ]   0: 04-21 10:16  FKPCatalogMesh  INFO     data painted.\n",
      "[ 058571.90 ]   0: 04-21 10:16  CatalogMesh     INFO     Chunk 0 ~ 4194304 / 5418120 \n",
      "[ 058594.52 ]   0: 04-21 10:16  CatalogMesh     INFO     painted 4194304 out of 5418120 objects to mesh\n",
      "[ 058594.52 ]   0: 04-21 10:16  CatalogMesh     INFO     Chunk 4194304 ~ 8388608 / 5418120 \n",
      "[ 058601.23 ]   0: 04-21 10:16  CatalogMesh     INFO     painted 5418120 out of 5418120 objects to mesh\n",
      "[ 058604.55 ]   0: 04-21 10:16  CatalogMesh     INFO     painted 5418120 out of 5418120 objects to mesh\n",
      "[ 058604.55 ]   0: 04-21 10:16  CatalogMesh     INFO     mean particles per cell is 0.0741746\n",
      "/Users/pierre/.conda/envs/nbodykit-env/lib/python3.8/logging/__init__.py:373: ComplexWarning: Casting complex values to real discards the imaginary part\n",
      "  msg = msg % self.args\n",
      "[ 058604.55 ]   0: 04-21 10:16  CatalogMesh     INFO     sum is 1.24444e+06 \n",
      "[ 058604.68 ]   0: 04-21 10:16  FKPCatalogMesh  INFO     randoms painted.\n",
      "[ 058604.80 ]   0: 04-21 10:16  FKPCatalogMesh  INFO     volume per cell is 69.2248\n",
      "[ 058604.82 ]   0: 04-21 10:16  FKPCatalogMesh  INFO     field: (FKPCatalog(species=['data', 'randoms']) as CatalogMesh) painting done\n",
      "[ 058604.82 ]   0: 04-21 10:16  ConvolvedFFTPower INFO     tsc painting of 'first' done\n",
      "[ 058605.84 ]   0: 04-21 10:16  ConvolvedFFTPower INFO     ell = 0 done; 1 r2c completed\n",
      "/Users/pierre/.conda/envs/nbodykit-env/lib/python3.8/site-packages/nbodykit/algorithms/convpower/fkp.py:531: ComplexWarning: Casting complex values to real discards the imaginary part\n",
      "  xgrid = [xx.astype('f8') + offset[ii] for ii, xx in enumerate(density2.slabs.optx)]\n",
      "/Users/pierre/.conda/envs/nbodykit-env/lib/python3.8/site-packages/nbodykit/algorithms/convpower/fkp.py:536: ComplexWarning: Casting complex values to real discards the imaginary part\n",
      "  kgrid = [kk.astype('f8') for kk in cfield.slabs.optx]\n",
      "[ 058690.46 ]   0: 04-21 10:17  ConvolvedFFTPower INFO     normalized power spectrum with `randoms.norm = 95.297710`\n",
      "[ 058690.49 ]   0: 04-21 10:17  ConvolvedFFTPower INFO     higher order multipoles computed in elapsed time 00:00:00.00\n"
     ]
    }
   ],
   "source": [
    "r = ConvolvedFFTPower(mesh, poles=[0])"
   ]
  },
  {
   "cell_type": "code",
   "execution_count": 48,
   "metadata": {},
   "outputs": [
    {
     "name": "stdout",
     "output_type": "stream",
     "text": [
      "poles = [0]\n",
      "dk = None\n",
      "kmin = 0.0\n",
      "kmax = None\n",
      "Nmesh = [256 256 256]\n",
      "BoxSize = [ 772. 1637.  919.]\n",
      "BoxPad = [0.02 0.02 0.02]\n",
      "BoxCenter = [776.27552091  14.10434114 230.28509464]\n",
      "mesh.resampler = tsc\n",
      "mesh.interlaced = True\n",
      "alpha = 1.000794186913542\n",
      "data.norm = 95.29458797698169\n",
      "randoms.norm = 95.29771037793844\n",
      "shotnoise = 6140.017112523907\n",
      "data.N = 5422423\n",
      "data.W = 5422423.0\n",
      "data.W2 = 1245388.2222967297\n",
      "data.num_per_cell = 0.07423092259745179\n",
      "randoms.N = 5418120\n",
      "randoms.W = 5418120.0\n",
      "randoms.W2 = 1244443.7486675084\n",
      "randoms.num_per_cell = 0.07417462758228233\n",
      "data.ext = 1\n",
      "randoms.ext = 1\n"
     ]
    }
   ],
   "source": [
    "for key in r.attrs:\n",
    "    print(\"%s = %s\" % (key, str(r.attrs[key])))"
   ]
  },
  {
   "cell_type": "code",
   "execution_count": 49,
   "metadata": {},
   "outputs": [
    {
     "name": "stderr",
     "output_type": "stream",
     "text": [
      "[ 058770.40 ]   0: 04-21 10:19  matplotlib.legend WARNING  No handles with labels found to put in legend.\n"
     ]
    },
    {
     "data": {
      "text/plain": [
       "(0.01, 0.5)"
      ]
     },
     "execution_count": 49,
     "metadata": {},
     "output_type": "execute_result"
    },
    {
     "data": {
      "image/png": "[encoded data removed]",
      "text/plain": [
       "<Figure size 864x504 with 1 Axes>"
      ]
     },
     "metadata": {
      "image/png": {
       "height": 448,
       "width": 752
      }
     },
     "output_type": "display_data"
    }
   ],
   "source": [
    "poles = r.poles\n",
    "\n",
    "plt.plot(poles['k'], 0.5 * poles['power_0'].real * r.attrs['data.norm'] / I12_r) \n",
    "\n",
    "plt.legend(loc=0)\n",
    "plt.xlabel(r\"$k$ [$h \\ \\mathrm{Mpc}^{-1}$]\")\n",
    "plt.ylabel(r\"$ P_0$ [$h^{-3} \\ \\mathrm{Mpc}^3$]\")\n",
    "plt.xlim(0.01, 0.5)"
   ]
  },
  {
   "cell_type": "markdown",
   "metadata": {},
   "source": [
    "### BOSS, Patchy, and nseries"
   ]
  },
  {
   "cell_type": "code",
   "execution_count": 129,
   "metadata": {},
   "outputs": [],
   "source": [
    "nbar = 4.e-4"
   ]
  },
  {
   "cell_type": "code",
   "execution_count": 148,
   "metadata": {},
   "outputs": [],
   "source": [
    "def get_Psn(I12_d, I12_r, I22_d, I22_r, alpha, beta): \n",
    "    if np.abs(1-I12_d/I12_r) < 1e-2: pass\n",
    "    else: raise Exception('I12 data and randoms not matching! data/randoms = %.3f' % np.abs(1-I12_d/I12_r))\n",
    "    if np.abs(1-I22_d/I22_r) < 1e-2: pass\n",
    "    else: raise Exception('I22 data and randoms not matching! data/randoms = %.3f' % np.abs(1-I22_d/I22_r))\n",
    "    return (I12_d + alpha * I12_r) / (beta * I22_r)\n",
    "\n",
    "def get_Bsn(I13_d, I13_r, I33_d, I33_r, alpha, beta): \n",
    "    if np.abs(1-I13_d/I13_r) < 2e-2: pass\n",
    "    else: raise Exception('I13 data and randoms not matching! data/randoms = %.3f' % np.abs(1-I13_d/I13_r))\n",
    "    if np.abs(1-I33_d/I33_r) < 1e-2: pass\n",
    "    else: raise Exception('I33 data and randoms not matching! data/randoms = %.3f' % np.abs(1-I33_d/I33_r))\n",
    "    return (I13_d - alpha**2 * I13_r) / (beta**2 * I33_r)"
   ]
  },
  {
   "cell_type": "code",
   "execution_count": 149,
   "metadata": {},
   "outputs": [
    {
     "name": "stdout",
     "output_type": "stream",
     "text": [
      "nseries cmass ngc: Psn = 5.505e+03, Bsn = 3.617e+07, Psn^2/Bsn = 0.84, Psn nbar = 2.202, Bsn nbar^2 = 5.787\n",
      "patchy cmass ngc: Psn = 5.333e+03, Bsn = 3.106e+07, Psn^2/Bsn = 0.92, Psn nbar = 2.133, Bsn nbar^2 = 4.970\n",
      "patchy cmass sgc: Psn = 5.836e+03, Bsn = 3.702e+07, Psn^2/Bsn = 0.92, Psn nbar = 2.334, Bsn nbar^2 = 5.923\n",
      "patchy lowz ngc: Psn = 3.927e+03, Bsn = 1.509e+07, Psn^2/Bsn = 1.02, Psn nbar = 1.571, Bsn nbar^2 = 2.414\n",
      "patchy lowz sgc: Psn = 3.932e+03, Bsn = 1.513e+07, Psn^2/Bsn = 1.02, Psn nbar = 1.573, Bsn nbar^2 = 2.421\n",
      "boss cmass ngc: Psn = 4.981e+03, Bsn = 2.708e+07, Psn^2/Bsn = 0.92, Psn nbar = 1.992, Bsn nbar^2 = 4.332\n",
      "boss cmass sgc: Psn = 4.996e+03, Bsn = 2.709e+07, Psn^2/Bsn = 0.92, Psn nbar = 1.998, Bsn nbar^2 = 4.334\n",
      "boss lowz ngc: Psn = 3.996e+03, Bsn = 1.584e+07, Psn^2/Bsn = 1.01, Psn nbar = 1.598, Bsn nbar^2 = 2.535\n",
      "boss lowz sgc: Psn = 3.399e+03, Bsn = 1.130e+07, Psn^2/Bsn = 1.02, Psn nbar = 1.360, Bsn nbar^2 = 1.809\n"
     ]
    }
   ],
   "source": [
    "for which in ['nseries', 'patchy', 'boss']:\n",
    "    for red in ['cmass', 'lowz']:\n",
    "        for sky in ['ngc', 'sgc']: \n",
    "            \n",
    "            noprint = False\n",
    "            if which == 'nseries': \n",
    "                beta, alpha, I22_d, I22_r, I33_d, I33_r, I12_d, I12_r, I13_d, I13_r = 0.979, 1.98754e-02, 4.55870e+00, 4.54458e+00, 1.89456e-04, 1.89057e-04, 2.40176e+04, 2.38269e+04, 6.55609e+03, 6.49019e+03\n",
    "                if red != 'cmass' or sky != 'ngc': noprint = True\n",
    "            if which == 'patchy': \n",
    "                if red == 'cmass':\n",
    "                    if sky == 'ngc': \n",
    "                        beta, alpha, I22_d, I22_r, I33_d, I33_r, I12_d, I12_r, I13_d, I13_r = 0.875, 2.00279e-02, 1.18448e+01, 1.18448e+01, 8.43224e-04, 8.43172e-04, 5.41841e+04, 5.42105e+04, 2.00586e+04, 2.00796e+04\n",
    "                    elif sky == 'sgc':\n",
    "                        beta, alpha, I22_d, I22_r, I33_d, I33_r, I12_d, I12_r, I13_d, I13_r = 0.805, 1.96234e-02, 4.28737e+00, 4.28666e+00, 3.04232e-04, 3.04155e-04, 1.97502e+04, 1.97441e+04, 7.29967e+03, 7.29295e+03\n",
    "                elif red == 'lowz':\n",
    "                    if sky == 'ngc': \n",
    "                        beta, alpha, I22_d, I22_r, I33_d, I33_r, I12_d, I12_r, I13_d, I13_r = 0.889, 2.00751e-02, 4.96317e+00, 4.96076e+00, 3.70766e-04, 3.70677e-04, 1.69764e+04, 1.69516e+04, 4.42127e+03, 4.41169e+03\n",
    "                    elif sky == 'sgc':\n",
    "                        beta, alpha, I22_d, I22_r, I33_d, I33_r, I12_d, I12_r, I13_d, I13_r = 0.883, 2.04666e-02, 1.96625e+00, 1.96701e+00, 1.47065e-04, 1.47082e-04, 6.69224e+03, 6.70271e+03, 1.73628e+03, 1.74081e+03\n",
    "            if which == 'boss': \n",
    "                if red == 'cmass':\n",
    "                    if sky == 'ngc': \n",
    "                        beta, alpha, I22_d, I22_r, I33_d, I33_r, I12_d, I12_r, I13_d, I13_r = 0.929, 2.05256e-02, 1.17267e+01, 1.17286e+01, 8.36394e-04, 8.36369e-04, 5.31809e+04, 5.32210e+04, 1.95532e+04, 1.95724e+04\n",
    "                    elif sky == 'sgc':\n",
    "                        beta, alpha, I22_d, I22_r, I33_d, I33_r, I12_d, I12_r, I13_d, I13_r = 0.929, 2.12161e-02, 4.34438e+00, 4.34443e+00, 3.09346e-04, 3.09348e-04, 1.97447e+04, 1.97455e+04, 7.23546e+03, 7.23595e+03\n",
    "                elif red == 'lowz':\n",
    "                    if sky == 'ngc': \n",
    "                        beta, alpha, I22_d, I22_r, I33_d, I33_r, I12_d, I12_r, I13_d, I13_r = 0.925, 2.05963e-02, 5.02191e+00, 5.02252e+00, 3.70544e-04, 3.70519e-04, 1.81891e+04, 1.82094e+04, 5.02433e+03, 5.03608e+03\n",
    "                    elif sky == 'sgc':\n",
    "                        beta, alpha, I22_d, I22_r, I33_d, I33_r, I12_d, I12_r, I13_d, I13_r = 0.922, 2.11983e-02, 2.02006e+00, 2.02008e+00, 1.54910e-04, 1.54910e-04, 6.19886e+03, 6.19928e+03, 1.48930e+03, 1.48948e+03\n",
    "\n",
    "            Psn = get_Psn(I12_d, I12_r, I22_d, I22_r, alpha, beta) \n",
    "            Bsn = get_Bsn(I13_d, I13_r, I33_d, I33_r, alpha, beta) \n",
    "            \n",
    "            if not noprint: print ('%s %s %s: Psn = %.3e, Bsn = %.3e, Psn^2/Bsn = %.2f, Psn nbar = %.3f, Bsn nbar^2 = %.3f' % \n",
    "                   (which, red, sky, Psn, Bsn, Psn**2/Bsn, Psn * nbar, Bsn * nbar**2))\n",
    "            \n",
    "            "
   ]
  },
  {
   "cell_type": "code",
   "execution_count": null,
   "metadata": {},
   "outputs": [],
   "source": []
  }
 ],
 "metadata": {
  "kernelspec": {
   "display_name": "Python 3",
   "language": "python",
   "name": "python3"
  },
  "language_info": {
   "codemirror_mode": {
    "name": "ipython",
    "version": 3
   },
   "file_extension": ".py",
   "mimetype": "text/x-python",
   "name": "python",
   "nbconvert_exporter": "python",
   "pygments_lexer": "ipython3",
   "version": "3.8.10"
  }
 },
 "nbformat": 4,
 "nbformat_minor": 2
}
